{
  "nbformat": 4,
  "nbformat_minor": 0,
  "metadata": {
    "colab": {
      "provenance": [],
      "authorship_tag": "ABX9TyOH2gvMvbgzzkITAav4ROs3",
      "include_colab_link": true
    },
    "kernelspec": {
      "name": "python3",
      "display_name": "Python 3"
    },
    "language_info": {
      "name": "python"
    }
  },
  "cells": [
    {
      "cell_type": "markdown",
      "metadata": {
        "id": "view-in-github",
        "colab_type": "text"
      },
      "source": [
        "<a href=\"https://colab.research.google.com/github/eshafayyazz/Quarter02/blob/main/Assignment02.ipynb\" target=\"_parent\"><img src=\"https://colab.research.google.com/assets/colab-badge.svg\" alt=\"Open In Colab\"/></a>"
      ]
    },
    {
      "cell_type": "code",
      "execution_count": null,
      "metadata": {
        "id": "a80JkEXQPWcQ"
      },
      "outputs": [],
      "source": []
    },
    {
      "cell_type": "markdown",
      "source": [
        "**API**: An Application Programming Interface enables communication between software components by exposing specific functionality.  \n",
        "\n",
        "**SDK**: A Software Development Kit provides tools, libraries, and documentation for developers to build applications on a platform.  \n",
        "\n",
        "**Web APIs**: APIs accessible via HTTP, allowing interaction with web-based services like retrieving or sending data.  \n",
        "\n",
        "**Library APIs**: APIs within a programming library that offer reusable functions or modules for specific tasks.  \n",
        "\n",
        "**Prompting and Completion**: A process in AI where input (prompt) is given, and the model generates relevant output (completion).  "
      ],
      "metadata": {
        "id": "8sezoNCKP4xk"
      }
    }
  ]
}