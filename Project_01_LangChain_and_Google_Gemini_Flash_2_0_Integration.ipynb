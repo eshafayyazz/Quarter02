{
  "nbformat": 4,
  "nbformat_minor": 0,
  "metadata": {
    "colab": {
      "provenance": [],
      "authorship_tag": "ABX9TyPcjwoHxqkag/ZnUCs0iCNb",
      "include_colab_link": true
    },
    "kernelspec": {
      "name": "python3",
      "display_name": "Python 3"
    },
    "language_info": {
      "name": "python"
    }
  },
  "cells": [
    {
      "cell_type": "markdown",
      "metadata": {
        "id": "view-in-github",
        "colab_type": "text"
      },
      "source": [
        "<a href=\"https://colab.research.google.com/github/eshafayyazz/Quarter02/blob/main/Project_01_LangChain_and_Google_Gemini_Flash_2_0_Integration.ipynb\" target=\"_parent\"><img src=\"https://colab.research.google.com/assets/colab-badge.svg\" alt=\"Open In Colab\"/></a>"
      ]
    },
    {
      "cell_type": "code",
      "execution_count": null,
      "metadata": {
        "id": "4bDl5p-wjVYB"
      },
      "outputs": [],
      "source": [
        "!pip install -qU langchain-google-genai langchain"
      ]
    },
    {
      "cell_type": "code",
      "source": [
        "from langchain.prompts import PromptTemplate\n",
        "from langchain.chains import LLMChain\n",
        "from langchain_google_genai import ChatGoogleGenerativeAI"
      ],
      "metadata": {
        "id": "7G0upoAJqpFN"
      },
      "execution_count": null,
      "outputs": []
    },
    {
      "cell_type": "code",
      "source": [
        "from google.colab import userdata\n",
        "GOOGLE_API_KEY=userdata.get('LANGCHAIN_API')"
      ],
      "metadata": {
        "id": "wlQMDRr2A7Di"
      },
      "execution_count": null,
      "outputs": []
    },
    {
      "cell_type": "code",
      "source": [
        "llm = ChatGoogleGenerativeAI(\n",
        "    model=\"gemini-1.5-flash\",\n",
        "    api_key=GOOGLE_API_KEY,\n",
        ")\n"
      ],
      "metadata": {
        "id": "L_uQo9jKrBCo"
      },
      "execution_count": null,
      "outputs": []
    },
    {
      "cell_type": "code",
      "source": [
        "# Create a prompt template\n",
        "prompt_template = PromptTemplate(\n",
        "    input_variables=[\"question\"],\n",
        "    template=\"You are a helpful assistant. Answer the following question:\\n\\n{question}\"\n",
        ")"
      ],
      "metadata": {
        "id": "VmycSAvHAkfa"
      },
      "execution_count": null,
      "outputs": []
    },
    {
      "cell_type": "code",
      "source": [
        "# Create the LLM chain\n",
        "chain = LLMChain(llm=llm, prompt=prompt_template)\n"
      ],
      "metadata": {
        "colab": {
          "base_uri": "https://localhost:8080/"
        },
        "id": "BQFTSFNu8k5F",
        "outputId": "e3659f5e-9153-4a35-f9f1-2cf268c3cb08"
      },
      "execution_count": null,
      "outputs": [
        {
          "output_type": "stream",
          "name": "stderr",
          "text": [
            "<ipython-input-7-2e911ec87b9e>:2: LangChainDeprecationWarning: The class `LLMChain` was deprecated in LangChain 0.1.17 and will be removed in 1.0. Use :meth:`~RunnableSequence, e.g., `prompt | llm`` instead.\n",
            "  chain = LLMChain(llm=llm, prompt=prompt_template)\n"
          ]
        }
      ]
    },
    {
      "cell_type": "code",
      "source": [
        "# Run the chain with a sample question\n",
        "question = \"What is Artificial Intelligence?\"\n",
        "response = chain.run({\"question\": question})\n",
        "\n",
        "print(\"Answer:\", response)"
      ],
      "metadata": {
        "colab": {
          "base_uri": "https://localhost:8080/"
        },
        "id": "aqHJwxz3DBo3",
        "outputId": "a8590e6d-c64b-493a-c95f-797b92a79eb7"
      },
      "execution_count": null,
      "outputs": [
        {
          "output_type": "stream",
          "name": "stderr",
          "text": [
            "<ipython-input-8-9f204fac7357>:3: LangChainDeprecationWarning: The method `Chain.run` was deprecated in langchain 0.1.0 and will be removed in 1.0. Use :meth:`~invoke` instead.\n",
            "  response = chain.run({\"question\": question})\n"
          ]
        },
        {
          "output_type": "stream",
          "name": "stdout",
          "text": [
            "Answer: Artificial intelligence (AI) is a broad field of computer science dedicated to creating systems capable of performing tasks that typically require human intelligence.  These tasks include things like:\n",
            "\n",
            "* **Learning:** Acquiring information and rules for using the information.\n",
            "* **Reasoning:** Using rules to reach approximate or definite conclusions.\n",
            "* **Problem-solving:**  Finding solutions to complex situations.\n",
            "* **Perception:** Interpreting sensory information like images, sound, and text.\n",
            "* **Language understanding:**  Processing and understanding human language.\n",
            "\n",
            "AI systems achieve these capabilities through various techniques, including machine learning (where systems learn from data without explicit programming), deep learning (a subset of machine learning using artificial neural networks with multiple layers), and natural language processing (NLP).\n",
            "\n",
            "It's important to note that AI is not a single technology but rather a collection of approaches and techniques.  The term often evokes images of sentient robots, but current AI is largely focused on narrow or weak AI, designed to perform specific tasks rather than possessing general human-like intelligence (strong or general AI).\n"
          ]
        }
      ]
    }
  ]
}